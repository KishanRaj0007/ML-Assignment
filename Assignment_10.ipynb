{
  "nbformat": 4,
  "nbformat_minor": 0,
  "metadata": {
    "colab": {
      "provenance": [],
      "authorship_tag": "ABX9TyOaoe/FK5I681NN/ruXjni+",
      "include_colab_link": true
    },
    "kernelspec": {
      "name": "python3",
      "display_name": "Python 3"
    },
    "language_info": {
      "name": "python"
    }
  },
  "cells": [
    {
      "cell_type": "markdown",
      "metadata": {
        "id": "view-in-github",
        "colab_type": "text"
      },
      "source": [
        "<a href=\"https://colab.research.google.com/github/KishanRaj0007/ML-Assignment/blob/main/Assignment_10.ipynb\" target=\"_parent\"><img src=\"https://colab.research.google.com/assets/colab-badge.svg\" alt=\"Open In Colab\"/></a>"
      ]
    },
    {
      "cell_type": "code",
      "execution_count": null,
      "metadata": {
        "colab": {
          "base_uri": "https://localhost:8080/"
        },
        "id": "OlaiC2ayPGd7",
        "outputId": "a24a803c-c57e-47f9-a10f-f11b1d5623de"
      },
      "outputs": [
        {
          "output_type": "stream",
          "name": "stdout",
          "text": [
            "Enter the path to the text file: /content/sample_data/python.txt\n",
            "My\n",
            "is\n",
            "kishan\n",
            "name\n"
          ]
        }
      ],
      "source": [
        "def get_unique_words(file_path):\n",
        "    unique_words = set()\n",
        "    with open(file_path, 'r') as file:\n",
        "        for line in file:\n",
        "            words = line.split()\n",
        "            for word in words:\n",
        "                unique_words.add(word.strip())\n",
        "\n",
        "    return sorted(unique_words)\n",
        "\n",
        "def main():\n",
        "    file_path = input(\"Enter the path to the text file: \")\n",
        "    unique_words = get_unique_words(file_path)\n",
        "    for word in unique_words:\n",
        "        print(word)\n",
        "\n",
        "if __name__ == \"__main__\":\n",
        "    main()\n"
      ]
    },
    {
      "cell_type": "code",
      "source": [
        "def read_file(file_path):\n",
        "    try:\n",
        "        with open(file_path, 'r') as file:\n",
        "            content = file.read()\n",
        "            print(\"Content of the file:\")\n",
        "            print(content)\n",
        "            return content\n",
        "    except FileNotFoundError:\n",
        "        print(\"File not found.\")\n",
        "\n",
        "def write_file(file_path, new_content):\n",
        "    with open(file_path, 'w') as file:\n",
        "        file.write(new_content)\n",
        "        print(\"File has been successfully written.\")\n",
        "\n",
        "def main():\n",
        "    file_path = input(\"Enter the path to the file: \")\n",
        "    content = read_file(file_path)\n",
        "    if content:\n",
        "        new_content = input(\"Enter the new content: \")\n",
        "        write_file(file_path, new_content)\n",
        "\n",
        "if __name__ == \"__main__\":\n",
        "    main()\n"
      ],
      "metadata": {
        "colab": {
          "base_uri": "https://localhost:8080/"
        },
        "id": "7AeZNlQoPHgx",
        "outputId": "a473c066-6ebd-4ee4-b8b2-67a4cc284509"
      },
      "execution_count": null,
      "outputs": [
        {
          "output_type": "stream",
          "name": "stdout",
          "text": [
            "Enter the path to the file: /content/sample_data/python.txt\n",
            "Content of the file:\n",
            "My name is kishan\n",
            "Enter the new content: /content/sample_data/python2.txt\n",
            "File has been successfully written.\n"
          ]
        }
      ]
    },
    {
      "cell_type": "markdown",
      "source": [],
      "metadata": {
        "id": "O0oCX3n4Pf3f"
      }
    },
    {
      "cell_type": "code",
      "source": [
        "def copy_file(source_file, destination_file):\n",
        "    try:\n",
        "        with open(source_file, 'r') as source:\n",
        "            with open(destination_file, 'w') as destination:\n",
        "                destination.write(source.read())\n",
        "        print(\"File copied successfully!\")\n",
        "    except FileNotFoundError:\n",
        "        print(\"One or both files not found.\")\n",
        "\n",
        "def main():\n",
        "    source_file = input(\"Enter the path to the source file: \")\n",
        "    destination_file = input(\"Enter the path to the destination file: \")\n",
        "    copy_file(source_file, destination_file)\n",
        "\n",
        "if __name__ == \"__main__\":\n",
        "    main()\n"
      ],
      "metadata": {
        "colab": {
          "base_uri": "https://localhost:8080/"
        },
        "id": "jrnqm8QnPeav",
        "outputId": "128ed1b8-b2d6-4ba2-daf3-e17ca0078f3f"
      },
      "execution_count": null,
      "outputs": [
        {
          "output_type": "stream",
          "name": "stdout",
          "text": [
            "Enter the path to the source file: /content/sample_data/python.txt\n",
            "Enter the path to the destination file: /content/sample_data/python2.txt\n",
            "File copied successfully!\n"
          ]
        }
      ]
    },
    {
      "cell_type": "code",
      "source": [
        "import pandas as pd\n",
        "from PIL import Image\n",
        "\n",
        "# Read CSV file\n",
        "def read_csv(file_path):\n",
        "    df = pd.read_csv(file_path)\n",
        "    print(\"CSV file contents:\")\n",
        "    print(df)\n",
        "\n",
        "# Read Excel file\n",
        "def read_excel(file_path):\n",
        "    df = pd.read_excel(file_path)\n",
        "    print(\"Excel file contents:\")\n",
        "    print(df)\n",
        "\n",
        "# Read TXT file\n",
        "def read_txt(file_path):\n",
        "    with open(file_path, 'r') as file:\n",
        "        contents = file.read()\n",
        "        print(\"TXT file contents:\")\n",
        "        print(contents)\n",
        "\n",
        "# Read TSV file\n",
        "def read_tsv(file_path):\n",
        "    df = pd.read_csv(file_path, sep='\\t')\n",
        "    print(\"TSV file contents:\")\n",
        "    print(df)\n",
        "\n",
        "# Read JPG file\n",
        "def read_jpg(file_path):\n",
        "    img = Image.open(file_path)\n",
        "    print(\"JPG file properties:\")\n",
        "    print(f\"Format: {img.format}, Mode: {img.mode}, Size: {img.size}\")\n",
        "\n",
        "# Main function to test reading different file types\n",
        "def main():\n",
        "    csv_file = 'example.csv'\n",
        "    excel_file = 'example.xlsx'\n",
        "    txt_file = '/content/sample_data/python.txt'\n",
        "    tsv_file = 'example.tsv'\n",
        "    jpg_file = 'example.jpg'\n",
        "\n",
        "    read_csv(csv_file)\n",
        "    print(\"\\n\")\n",
        "    read_excel(excel_file)\n",
        "    print(\"\\n\")\n",
        "    read_txt(txt_file)\n",
        "    print(\"\\n\")\n",
        "    read_tsv(tsv_file)\n",
        "    print(\"\\n\")\n",
        "    read_jpg(jpg_file)\n",
        "\n",
        "if __name__ == \"__main__\":\n",
        "    main()\n"
      ],
      "metadata": {
        "id": "aCoXDipePlT7"
      },
      "execution_count": null,
      "outputs": []
    },
    {
      "cell_type": "code",
      "source": [
        "def insertion_sort(arr):\n",
        "    for i in range(1, len(arr)):\n",
        "        key = arr[i]\n",
        "        j = i - 1\n",
        "        while j >= 0 and key < arr[j]:\n",
        "            arr[j + 1] = arr[j]\n",
        "            j -= 1\n",
        "        arr[j + 1] = key\n",
        "    return arr\n",
        "\n",
        "unsorted_list = [12, 4, 5, 6, 1, 14, 13, 15]\n",
        "print(\"Unsorted List: \",unsorted_list)\n",
        "sorted_list = insertion_sort(unsorted_list)\n",
        "print(\"Sorted list:\", sorted_list)"
      ],
      "metadata": {
        "colab": {
          "base_uri": "https://localhost:8080/"
        },
        "id": "7OTQvBjkPx10",
        "outputId": "54762f54-e2d0-4aa8-a31e-4b93e5ce7962"
      },
      "execution_count": null,
      "outputs": [
        {
          "output_type": "stream",
          "name": "stdout",
          "text": [
            "Unsorted List:  [12, 4, 5, 6, 1, 14, 13, 15]\n",
            "Sorted list: [1, 4, 5, 6, 12, 13, 14, 15]\n"
          ]
        }
      ]
    },
    {
      "cell_type": "code",
      "source": [],
      "metadata": {
        "id": "ogjt9jjgP0y1"
      },
      "execution_count": null,
      "outputs": []
    }
  ]
}