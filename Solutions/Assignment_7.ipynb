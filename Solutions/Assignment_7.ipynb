{
  "nbformat": 4,
  "nbformat_minor": 0,
  "metadata": {
    "colab": {
      "provenance": [],
      "authorship_tag": "ABX9TyPht0R+yj22eZ5b5UW7DbVS",
      "include_colab_link": true
    },
    "kernelspec": {
      "name": "python3",
      "display_name": "Python 3"
    },
    "language_info": {
      "name": "python"
    }
  },
  "cells": [
    {
      "cell_type": "markdown",
      "metadata": {
        "id": "view-in-github",
        "colab_type": "text"
      },
      "source": [
        "<a href=\"https://colab.research.google.com/github/KishanRaj0007/ML-Assignment/blob/main/Assignment_7.ipynb\" target=\"_parent\"><img src=\"https://colab.research.google.com/assets/colab-badge.svg\" alt=\"Open In Colab\"/></a>"
      ]
    },
    {
      "cell_type": "code",
      "execution_count": null,
      "metadata": {
        "colab": {
          "base_uri": "https://localhost:8080/"
        },
        "id": "End_5PUmSb6Q",
        "outputId": "c567e57d-b7ce-49df-94a3-3a3f312620f8"
      },
      "outputs": [
        {
          "output_type": "stream",
          "name": "stdout",
          "text": [
            "Enter the number-456\n",
            "Entered number is negative\n"
          ]
        }
      ],
      "source": [
        "#Assignment 7 question 1\n",
        "a = int(input(\"Enter the number\"))\n",
        "if(a > 0):\n",
        "  print(\"Entered Number is positive\")\n",
        "elif(a == 0):\n",
        "  print(\"Entered Numberis zero\")\n",
        "else:\n",
        "  print(\"Entered number is negative\")"
      ]
    },
    {
      "cell_type": "code",
      "source": [
        "#Assignment 7 question 2\n",
        "a = int(input(\"Enter the first side \"))\n",
        "b = int(input(\"Enter the second side \"))\n",
        "c = int(input(\"Enter the third side \"))\n",
        "if(a+b > c):\n",
        "  print(\"Given sides form a triangle\")\n",
        "if(a == b and b != c):\n",
        "  print(\"Triangle is isosceles\")\n",
        "elif(a == c and b != c):\n",
        "  print(\"Triangle is isosceles\")\n",
        "elif(b == c and a != b):\n",
        "  print(\"Triangle is isosceles\")\n",
        "else:\n",
        "  print(\"Triangle is not isosceles\")\n"
      ],
      "metadata": {
        "colab": {
          "base_uri": "https://localhost:8080/"
        },
        "id": "XcjA6MdCShBm",
        "outputId": "f8feafb6-5912-4ee3-9966-adb032fb29ac"
      },
      "execution_count": null,
      "outputs": [
        {
          "output_type": "stream",
          "name": "stdout",
          "text": [
            "Enter the first side 5\n",
            "Enter the second side 5\n",
            "Enter the third side 6\n",
            "Given sides form a triangle\n",
            "Triangle is isosceles\n"
          ]
        }
      ]
    },
    {
      "cell_type": "code",
      "source": [
        "#Assignment 7 question 3\n",
        "amount = int(input(\"Enter the retirement amount\"))\n",
        "years = int(input(\"Enter the years of service\"))\n",
        "finalAmount = 0\n",
        "if(years < 5):\n",
        "  finalAmount = amount\n",
        "elif(years >= 5 and years < 10):\n",
        "  finalAmount = amount + (5*amount)/100\n",
        "elif(years >= 10 and years < 20):\n",
        "  finalAmount = amount + (10*amount)/100\n",
        "else:\n",
        "  finalAmount = amount + (20*amount)/100\n",
        "print(\"Final amount after giving bonus is \",finalAmount)"
      ],
      "metadata": {
        "colab": {
          "base_uri": "https://localhost:8080/"
        },
        "id": "XDLb-kWkSmzb",
        "outputId": "2a0a50b8-4b32-4000-df07-5412479bda7a"
      },
      "execution_count": null,
      "outputs": [
        {
          "output_type": "stream",
          "name": "stdout",
          "text": [
            "Enter the retirement amount200\n",
            "Enter the years of service10\n",
            "Final amount after giving bonus is  220.0\n"
          ]
        }
      ]
    },
    {
      "cell_type": "code",
      "source": [
        "#Assignment 7 question 4\n",
        "marks = int(input(\"Enter the marks \"))\n",
        "if(marks >= 85 and marks <= 100):\n",
        "  grades = 'A'\n",
        "elif(marks >= 60 and marks <= 84):\n",
        "  grades = 'B'\n",
        "elif(marks >= 40 and marks <= 59):\n",
        "  grades = 'C'\n",
        "elif(marks >= 30 and marks <= 39):\n",
        "  grades = 'D'\n",
        "else:\n",
        "  grades = 'F'\n",
        "print(\"Grades: \",grades)\n"
      ],
      "metadata": {
        "colab": {
          "base_uri": "https://localhost:8080/"
        },
        "id": "kEA04zkGSvKc",
        "outputId": "3580d1ed-3ffb-4771-f6d3-4b7877557bb9"
      },
      "execution_count": null,
      "outputs": [
        {
          "output_type": "stream",
          "name": "stdout",
          "text": [
            "Enter the marks 96\n",
            "Grades:  A\n"
          ]
        }
      ]
    },
    {
      "cell_type": "code",
      "source": [
        "#Assignment 7 question 5\n",
        "p = int(input(\"Enter the Principle amount \"))\n",
        "t = int(input(\"Enter the time in years for which money was borrowed \"))\n",
        "r = int(input(\"Enter the rate of interest \"))\n",
        "choice = input(\"Enter the choice whether amount should be paid as simple interest or compount interest \")\n",
        "amount = 0\n",
        "if(choice == \"simple\"):\n",
        "  amount = p + (p*r*t)/100\n",
        "  print(\"Final amount is \",amount)\n",
        "elif(choice == \"compound\"):\n",
        "  amount = p * (pow(1+ r/200,2*t))\n",
        "  print(\"Final amount is \",amount)\n",
        "else:\n",
        "  print(\"Invalid choice\")\n"
      ],
      "metadata": {
        "colab": {
          "base_uri": "https://localhost:8080/"
        },
        "id": "sE-H_SmCSyc4",
        "outputId": "deb55973-e45a-482c-a31d-6ecd0f151c9f"
      },
      "execution_count": null,
      "outputs": [
        {
          "output_type": "stream",
          "name": "stdout",
          "text": [
            "Enter the Principle amount 1000\n",
            "Enter the time in years for which money was borrowed 5\n",
            "Enter the rate of interest 2\n",
            "Enter the choice whether amount should be paid as simple interest or compount interest compound\n",
            "Final amount is  1104.6221254112045\n"
          ]
        }
      ]
    },
    {
      "cell_type": "code",
      "source": [],
      "metadata": {
        "id": "8pu_50MqS2NC"
      },
      "execution_count": null,
      "outputs": []
    }
  ]
}