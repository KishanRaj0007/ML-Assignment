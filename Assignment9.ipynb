{
  "nbformat": 4,
  "nbformat_minor": 0,
  "metadata": {
    "colab": {
      "provenance": [],
      "toc_visible": true,
      "authorship_tag": "ABX9TyPdkF14RZ9oOP4KOdIp0nGM",
      "include_colab_link": true
    },
    "kernelspec": {
      "name": "python3",
      "display_name": "Python 3"
    },
    "language_info": {
      "name": "python"
    }
  },
  "cells": [
    {
      "cell_type": "markdown",
      "metadata": {
        "id": "view-in-github",
        "colab_type": "text"
      },
      "source": [
        "<a href=\"https://colab.research.google.com/github/KishanRaj0007/ML-Assignment/blob/main/Assignment9.ipynb\" target=\"_parent\"><img src=\"https://colab.research.google.com/assets/colab-badge.svg\" alt=\"Open In Colab\"/></a>"
      ]
    },
    {
      "cell_type": "code",
      "execution_count": null,
      "metadata": {
        "colab": {
          "base_uri": "https://localhost:8080/"
        },
        "id": "dgew6D2YQt1-",
        "outputId": "83f369ff-5d51-45e4-b7a6-31e6c04261ce"
      },
      "outputs": [
        {
          "output_type": "stream",
          "name": "stdout",
          "text": [
            "Enter the number of elements in list5\n",
            "Enter the element2\n",
            "Enter the element9\n",
            "Enter the element1\n",
            "Enter the element7\n",
            "Enter the element5\n",
            "Entered list is:-\n",
            "[2, 9, 1, 7, 5]\n",
            "Sorted list is:\n",
            "[1, 2, 5, 7, 9]\n"
          ]
        }
      ],
      "source": [
        "a = int(input(\"Enter the number of elements in list\"))\n",
        "li = []\n",
        "count = 0\n",
        "for x in range(0,a):\n",
        "  n = int(input(\"Enter the element\"))\n",
        "  li.append(n)\n",
        "print(\"Entered list is:-\")\n",
        "print(li)\n",
        "\n",
        "def bubbleSort(li):\n",
        "\n",
        "\tn = len(li)\n",
        "\tfor i in range(n):\n",
        "\t\tfor j in range(0, n - i - 1):\n",
        "\t\t\tif li[j] > li[j + 1]:\n",
        "\t\t\t\tli[j], li[j + 1] = li[j + 1], li[j]\n",
        "\n",
        "bubbleSort(li)\n",
        "\n",
        "print(\"Sorted list is:\")\n",
        "print(li)\n",
        "\n"
      ]
    },
    {
      "cell_type": "code",
      "source": [
        "dict = {\n",
        "    \"January\":31,\n",
        "    \"February\":35,\n",
        "    \"March\":45\n",
        "}\n",
        "max = 0\n",
        "for x in dict.values():\n",
        "  if x > max:\n",
        "    max = x\n",
        "for x in dict.keys():\n",
        "  if max == dict.get(x):\n",
        "    print(\"The month having highest temperature is :\",x)\n",
        "    break\n"
      ],
      "metadata": {
        "colab": {
          "base_uri": "https://localhost:8080/"
        },
        "id": "rzJWmD55Q0eF",
        "outputId": "b57c2250-17fb-4d67-9edf-937a735e4278"
      },
      "execution_count": null,
      "outputs": [
        {
          "output_type": "stream",
          "name": "stdout",
          "text": [
            "The month having highest temperature is : March\n"
          ]
        }
      ]
    },
    {
      "cell_type": "code",
      "source": [
        "def is_prime(a):\n",
        "  count = 0\n",
        "  for x in range(a+1):\n",
        "    if x == 0:\n",
        "      continue\n",
        "    if a % x == 0:\n",
        "      count = count+1\n",
        "  if count == 2:\n",
        "    return True\n",
        "  else:\n",
        "    return False\n",
        "\n",
        "print(\"All prime number from 1 to 100 are as follows\")\n",
        "for x in range(1,101):\n",
        "  if is_prime(x) == True:\n",
        "    print(x)"
      ],
      "metadata": {
        "colab": {
          "base_uri": "https://localhost:8080/"
        },
        "id": "zIgWUeKxQ2ro",
        "outputId": "15b40e4e-f6c5-4d75-ed53-75674eaf16f4"
      },
      "execution_count": null,
      "outputs": [
        {
          "output_type": "stream",
          "name": "stdout",
          "text": [
            "All prime number from 1 to 100 are as follows\n",
            "2\n",
            "3\n",
            "5\n",
            "7\n",
            "11\n",
            "13\n",
            "17\n",
            "19\n",
            "23\n",
            "29\n",
            "31\n",
            "37\n",
            "41\n",
            "43\n",
            "47\n",
            "53\n",
            "59\n",
            "61\n",
            "67\n",
            "71\n",
            "73\n",
            "79\n",
            "83\n",
            "89\n",
            "97\n"
          ]
        }
      ]
    },
    {
      "cell_type": "code",
      "source": [
        "li=[]\n",
        "for x in range(2,21):\n",
        "  if x % 2 == 0:\n",
        "    li.append(x*x)\n",
        "print(li)"
      ],
      "metadata": {
        "colab": {
          "base_uri": "https://localhost:8080/"
        },
        "id": "xHda2qJDRAnV",
        "outputId": "b5d8fb98-313d-4ac1-83f8-19e1714b0aa6"
      },
      "execution_count": null,
      "outputs": [
        {
          "output_type": "stream",
          "name": "stdout",
          "text": [
            "[4, 16, 36, 64, 100, 144, 196, 256, 324, 400]\n"
          ]
        }
      ]
    },
    {
      "cell_type": "code",
      "source": [
        "# Open the file in read mode\n",
        "text = open(\"/content/sample_data/kishan.txt\", \"r\")\n",
        "\n",
        "for x in text:\n",
        "  print(x)"
      ],
      "metadata": {
        "colab": {
          "base_uri": "https://localhost:8080/"
        },
        "id": "5UTVYab5RDMu",
        "outputId": "702fdeac-49d8-4634-8879-1502fe26abf2"
      },
      "execution_count": null,
      "outputs": [
        {
          "output_type": "stream",
          "name": "stdout",
          "text": [
            "my name is kishan\n",
            "\n",
            "i am in computer lab\n"
          ]
        }
      ]
    },
    {
      "cell_type": "code",
      "source": [],
      "metadata": {
        "id": "HAuMJRb6RFeL"
      },
      "execution_count": null,
      "outputs": []
    }
  ]
}