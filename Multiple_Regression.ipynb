{
  "cells": [
    {
      "cell_type": "markdown",
      "metadata": {
        "id": "view-in-github",
        "colab_type": "text"
      },
      "source": [
        "<a href=\"https://colab.research.google.com/github/KishanRaj0007/ML-Assignment/blob/main/Multiple_Regression.ipynb\" target=\"_parent\"><img src=\"https://colab.research.google.com/assets/colab-badge.svg\" alt=\"Open In Colab\"/></a>"
      ]
    },
    {
      "cell_type": "code",
      "execution_count": null,
      "metadata": {
        "id": "fFAogEkiQa-k"
      },
      "outputs": [],
      "source": [
        "import pandas as pd"
      ]
    },
    {
      "cell_type": "code",
      "execution_count": null,
      "metadata": {
        "id": "dMuJjdJFQa-l"
      },
      "outputs": [],
      "source": [
        "data = pd.read_csv(r'C:\\Users\\ABHI\\Dropbox\\MNNIT\\AI_ML\\ML_codes\\winequality.csv')"
      ]
    },
    {
      "cell_type": "code",
      "execution_count": null,
      "metadata": {
        "id": "c8UW-8c_Qa-n",
        "outputId": "732c9054-0ba0-4e71-c5ca-29d655a9b372"
      },
      "outputs": [
        {
          "data": {
            "text/plain": [
              "(1599, 12)"
            ]
          },
          "execution_count": 4,
          "metadata": {},
          "output_type": "execute_result"
        }
      ],
      "source": [
        "data.shape"
      ]
    },
    {
      "cell_type": "code",
      "execution_count": null,
      "metadata": {
        "id": "w7DEErW-Qa-o",
        "outputId": "0a3b4242-8ed2-4191-b7ef-a1729b6d902a"
      },
      "outputs": [
        {
          "data": {
            "text/html": [
              "<div>\n",
              "<style scoped>\n",
              "    .dataframe tbody tr th:only-of-type {\n",
              "        vertical-align: middle;\n",
              "    }\n",
              "\n",
              "    .dataframe tbody tr th {\n",
              "        vertical-align: top;\n",
              "    }\n",
              "\n",
              "    .dataframe thead th {\n",
              "        text-align: right;\n",
              "    }\n",
              "</style>\n",
              "<table border=\"1\" class=\"dataframe\">\n",
              "  <thead>\n",
              "    <tr style=\"text-align: right;\">\n",
              "      <th></th>\n",
              "      <th>fixed acidity</th>\n",
              "      <th>volatile acidity</th>\n",
              "      <th>citric acid</th>\n",
              "      <th>residual sugar</th>\n",
              "      <th>chlorides</th>\n",
              "      <th>free sulfur dioxide</th>\n",
              "      <th>total sulfur dioxide</th>\n",
              "      <th>density</th>\n",
              "      <th>pH</th>\n",
              "      <th>sulphates</th>\n",
              "      <th>alcohol</th>\n",
              "      <th>quality</th>\n",
              "    </tr>\n",
              "  </thead>\n",
              "  <tbody>\n",
              "    <tr>\n",
              "      <th>count</th>\n",
              "      <td>1599.000000</td>\n",
              "      <td>1599.000000</td>\n",
              "      <td>1599.000000</td>\n",
              "      <td>1599.000000</td>\n",
              "      <td>1599.000000</td>\n",
              "      <td>1599.000000</td>\n",
              "      <td>1599.000000</td>\n",
              "      <td>1599.000000</td>\n",
              "      <td>1599.000000</td>\n",
              "      <td>1599.000000</td>\n",
              "      <td>1599.000000</td>\n",
              "      <td>1599.000000</td>\n",
              "    </tr>\n",
              "    <tr>\n",
              "      <th>mean</th>\n",
              "      <td>8.319637</td>\n",
              "      <td>0.527821</td>\n",
              "      <td>0.270976</td>\n",
              "      <td>2.538806</td>\n",
              "      <td>0.087467</td>\n",
              "      <td>15.874922</td>\n",
              "      <td>46.467792</td>\n",
              "      <td>0.996747</td>\n",
              "      <td>3.311113</td>\n",
              "      <td>0.658149</td>\n",
              "      <td>10.422983</td>\n",
              "      <td>5.636023</td>\n",
              "    </tr>\n",
              "    <tr>\n",
              "      <th>std</th>\n",
              "      <td>1.741096</td>\n",
              "      <td>0.179060</td>\n",
              "      <td>0.194801</td>\n",
              "      <td>1.409928</td>\n",
              "      <td>0.047065</td>\n",
              "      <td>10.460157</td>\n",
              "      <td>32.895324</td>\n",
              "      <td>0.001887</td>\n",
              "      <td>0.154386</td>\n",
              "      <td>0.169507</td>\n",
              "      <td>1.065668</td>\n",
              "      <td>0.807569</td>\n",
              "    </tr>\n",
              "    <tr>\n",
              "      <th>min</th>\n",
              "      <td>4.600000</td>\n",
              "      <td>0.120000</td>\n",
              "      <td>0.000000</td>\n",
              "      <td>0.900000</td>\n",
              "      <td>0.012000</td>\n",
              "      <td>1.000000</td>\n",
              "      <td>6.000000</td>\n",
              "      <td>0.990070</td>\n",
              "      <td>2.740000</td>\n",
              "      <td>0.330000</td>\n",
              "      <td>8.400000</td>\n",
              "      <td>3.000000</td>\n",
              "    </tr>\n",
              "    <tr>\n",
              "      <th>25%</th>\n",
              "      <td>7.100000</td>\n",
              "      <td>0.390000</td>\n",
              "      <td>0.090000</td>\n",
              "      <td>1.900000</td>\n",
              "      <td>0.070000</td>\n",
              "      <td>7.000000</td>\n",
              "      <td>22.000000</td>\n",
              "      <td>0.995600</td>\n",
              "      <td>3.210000</td>\n",
              "      <td>0.550000</td>\n",
              "      <td>9.500000</td>\n",
              "      <td>5.000000</td>\n",
              "    </tr>\n",
              "    <tr>\n",
              "      <th>50%</th>\n",
              "      <td>7.900000</td>\n",
              "      <td>0.520000</td>\n",
              "      <td>0.260000</td>\n",
              "      <td>2.200000</td>\n",
              "      <td>0.079000</td>\n",
              "      <td>14.000000</td>\n",
              "      <td>38.000000</td>\n",
              "      <td>0.996750</td>\n",
              "      <td>3.310000</td>\n",
              "      <td>0.620000</td>\n",
              "      <td>10.200000</td>\n",
              "      <td>6.000000</td>\n",
              "    </tr>\n",
              "    <tr>\n",
              "      <th>75%</th>\n",
              "      <td>9.200000</td>\n",
              "      <td>0.640000</td>\n",
              "      <td>0.420000</td>\n",
              "      <td>2.600000</td>\n",
              "      <td>0.090000</td>\n",
              "      <td>21.000000</td>\n",
              "      <td>62.000000</td>\n",
              "      <td>0.997835</td>\n",
              "      <td>3.400000</td>\n",
              "      <td>0.730000</td>\n",
              "      <td>11.100000</td>\n",
              "      <td>6.000000</td>\n",
              "    </tr>\n",
              "    <tr>\n",
              "      <th>max</th>\n",
              "      <td>15.900000</td>\n",
              "      <td>1.580000</td>\n",
              "      <td>1.000000</td>\n",
              "      <td>15.500000</td>\n",
              "      <td>0.611000</td>\n",
              "      <td>72.000000</td>\n",
              "      <td>289.000000</td>\n",
              "      <td>1.003690</td>\n",
              "      <td>4.010000</td>\n",
              "      <td>2.000000</td>\n",
              "      <td>14.900000</td>\n",
              "      <td>8.000000</td>\n",
              "    </tr>\n",
              "  </tbody>\n",
              "</table>\n",
              "</div>"
            ],
            "text/plain": [
              "       fixed acidity  volatile acidity  citric acid  residual sugar  \\\n",
              "count    1599.000000       1599.000000  1599.000000     1599.000000   \n",
              "mean        8.319637          0.527821     0.270976        2.538806   \n",
              "std         1.741096          0.179060     0.194801        1.409928   \n",
              "min         4.600000          0.120000     0.000000        0.900000   \n",
              "25%         7.100000          0.390000     0.090000        1.900000   \n",
              "50%         7.900000          0.520000     0.260000        2.200000   \n",
              "75%         9.200000          0.640000     0.420000        2.600000   \n",
              "max        15.900000          1.580000     1.000000       15.500000   \n",
              "\n",
              "         chlorides  free sulfur dioxide  total sulfur dioxide      density  \\\n",
              "count  1599.000000          1599.000000           1599.000000  1599.000000   \n",
              "mean      0.087467            15.874922             46.467792     0.996747   \n",
              "std       0.047065            10.460157             32.895324     0.001887   \n",
              "min       0.012000             1.000000              6.000000     0.990070   \n",
              "25%       0.070000             7.000000             22.000000     0.995600   \n",
              "50%       0.079000            14.000000             38.000000     0.996750   \n",
              "75%       0.090000            21.000000             62.000000     0.997835   \n",
              "max       0.611000            72.000000            289.000000     1.003690   \n",
              "\n",
              "                pH    sulphates      alcohol      quality  \n",
              "count  1599.000000  1599.000000  1599.000000  1599.000000  \n",
              "mean      3.311113     0.658149    10.422983     5.636023  \n",
              "std       0.154386     0.169507     1.065668     0.807569  \n",
              "min       2.740000     0.330000     8.400000     3.000000  \n",
              "25%       3.210000     0.550000     9.500000     5.000000  \n",
              "50%       3.310000     0.620000    10.200000     6.000000  \n",
              "75%       3.400000     0.730000    11.100000     6.000000  \n",
              "max       4.010000     2.000000    14.900000     8.000000  "
            ]
          },
          "execution_count": 5,
          "metadata": {},
          "output_type": "execute_result"
        }
      ],
      "source": [
        "data.describe()"
      ]
    },
    {
      "cell_type": "code",
      "execution_count": null,
      "metadata": {
        "id": "GXDpBxVrQa-o",
        "outputId": "87b70d62-5196-478b-bd79-d7d58e86f4a4"
      },
      "outputs": [
        {
          "data": {
            "text/plain": [
              "Index(['fixed acidity', 'volatile acidity', 'citric acid', 'residual sugar',\n",
              "       'chlorides', 'free sulfur dioxide', 'total sulfur dioxide', 'density',\n",
              "       'pH', 'sulphates', 'alcohol', 'quality'],\n",
              "      dtype='object')"
            ]
          },
          "execution_count": 6,
          "metadata": {},
          "output_type": "execute_result"
        }
      ],
      "source": [
        "data.columns"
      ]
    },
    {
      "cell_type": "code",
      "execution_count": null,
      "metadata": {
        "id": "betVtUZKQa-o",
        "outputId": "4d3a3497-5c9b-4c52-bc1f-5d2c93f397c3"
      },
      "outputs": [
        {
          "data": {
            "text/plain": [
              "fixed acidity           False\n",
              "volatile acidity        False\n",
              "citric acid             False\n",
              "residual sugar          False\n",
              "chlorides               False\n",
              "free sulfur dioxide     False\n",
              "total sulfur dioxide    False\n",
              "density                 False\n",
              "pH                      False\n",
              "sulphates               False\n",
              "alcohol                 False\n",
              "quality                 False\n",
              "dtype: bool"
            ]
          },
          "execution_count": 7,
          "metadata": {},
          "output_type": "execute_result"
        }
      ],
      "source": [
        "data.isnull().any()"
      ]
    },
    {
      "cell_type": "code",
      "execution_count": null,
      "metadata": {
        "id": "cNe3KVgaQa-p"
      },
      "outputs": [],
      "source": [
        "#data = data.fillna(method='ffill')"
      ]
    },
    {
      "cell_type": "code",
      "execution_count": null,
      "metadata": {
        "id": "V0yN1w7yQa-p"
      },
      "outputs": [],
      "source": [
        "X_data = data[['fixed acidity', 'volatile acidity', 'citric acid', 'residual sugar', 'chlorides', 'free sulfur dioxide', 'total sulfur dioxide', 'density', 'pH', 'sulphates','alcohol']]\n",
        "X = X_data.values"
      ]
    },
    {
      "cell_type": "code",
      "execution_count": null,
      "metadata": {
        "id": "FRr4lkOOqR38",
        "outputId": "07e447d4-3614-4741-cc37-12e282d7cd1f"
      },
      "outputs": [
        {
          "data": {
            "text/plain": [
              "array([[ 7.4  ,  0.7  ,  0.   , ...,  3.51 ,  0.56 ,  9.4  ],\n",
              "       [ 7.8  ,  0.88 ,  0.   , ...,  3.2  ,  0.68 ,  9.8  ],\n",
              "       [ 7.8  ,  0.76 ,  0.04 , ...,  3.26 ,  0.65 ,  9.8  ],\n",
              "       ...,\n",
              "       [ 6.3  ,  0.51 ,  0.13 , ...,  3.42 ,  0.75 , 11.   ],\n",
              "       [ 5.9  ,  0.645,  0.12 , ...,  3.57 ,  0.71 , 10.2  ],\n",
              "       [ 6.   ,  0.31 ,  0.47 , ...,  3.39 ,  0.66 , 11.   ]])"
            ]
          },
          "execution_count": 9,
          "metadata": {},
          "output_type": "execute_result"
        }
      ],
      "source": [
        "X"
      ]
    },
    {
      "cell_type": "code",
      "execution_count": null,
      "metadata": {
        "id": "BP6838qFqR39",
        "outputId": "9a6280b1-289b-4ad0-a6de-207d06738e57"
      },
      "outputs": [
        {
          "data": {
            "text/plain": [
              "(1599, 11)"
            ]
          },
          "execution_count": 10,
          "metadata": {},
          "output_type": "execute_result"
        }
      ],
      "source": [
        "X.shape"
      ]
    },
    {
      "cell_type": "code",
      "execution_count": null,
      "metadata": {
        "id": "IxWw_RnPQa-q"
      },
      "outputs": [],
      "source": [
        "y = data['quality'].values"
      ]
    },
    {
      "cell_type": "code",
      "execution_count": null,
      "metadata": {
        "id": "WbxAeRl1Qa-q",
        "outputId": "29e68d8a-756e-42d8-8818-2b9e0853877d"
      },
      "outputs": [
        {
          "data": {
            "text/plain": [
              "array([5, 5, 5, ..., 6, 5, 6], dtype=int64)"
            ]
          },
          "execution_count": 12,
          "metadata": {},
          "output_type": "execute_result"
        }
      ],
      "source": [
        "y"
      ]
    },
    {
      "cell_type": "code",
      "execution_count": null,
      "metadata": {
        "id": "7eUBZQ_xQa-q",
        "outputId": "4e0ef5a7-3817-4619-9894-26909fcca25a"
      },
      "outputs": [
        {
          "data": {
            "text/plain": [
              "<matplotlib.axes._subplots.AxesSubplot at 0x7fe9cb7d5e10>"
            ]
          },
          "execution_count": 11,
          "metadata": {},
          "output_type": "execute_result"
        }
      ],
      "source": [
        "#import matplotlib.pyplot as plt\n",
        "#import seaborn as seabornInstance\n",
        "#plt.figure(figsize=(15,10))\n",
        "#plt.tight_layout()\n",
        "#seabornInstance.distplot(data['quality'])"
      ]
    },
    {
      "cell_type": "code",
      "execution_count": null,
      "metadata": {
        "id": "n2f5AU0YQa-r"
      },
      "outputs": [],
      "source": [
        "from sklearn.model_selection import train_test_split\n",
        "X_train, X_test, y_train, y_test = train_test_split(X, y, test_size=0.3, random_state=0)"
      ]
    },
    {
      "cell_type": "code",
      "execution_count": null,
      "metadata": {
        "id": "bGKr_6JhqR39",
        "outputId": "acba4dbc-1fab-4a4d-acc1-e4db27ecc2ed"
      },
      "outputs": [
        {
          "data": {
            "text/plain": [
              "((1119, 11), (480, 11), (1119,), (480,))"
            ]
          },
          "execution_count": 14,
          "metadata": {},
          "output_type": "execute_result"
        }
      ],
      "source": [
        "X_train.shape, X_test.shape, y_train.shape, y_test.shape"
      ]
    },
    {
      "cell_type": "code",
      "execution_count": null,
      "metadata": {
        "id": "hS9-chqJQa-r",
        "outputId": "9457cc02-9d29-407c-e4ad-09e110cd0007"
      },
      "outputs": [
        {
          "data": {
            "text/plain": [
              "LinearRegression()"
            ]
          },
          "execution_count": 15,
          "metadata": {},
          "output_type": "execute_result"
        }
      ],
      "source": [
        "from sklearn.linear_model import LinearRegression\n",
        "regressor = LinearRegression()\n",
        "regressor.fit(X_train, y_train)"
      ]
    },
    {
      "cell_type": "code",
      "execution_count": null,
      "metadata": {
        "id": "FOBevoIKqR39"
      },
      "outputs": [],
      "source": [
        "y_pred = regressor.predict(X_test)"
      ]
    },
    {
      "cell_type": "code",
      "execution_count": null,
      "metadata": {
        "id": "uOfjeneAqR3-",
        "outputId": "705dc236-7865-44c8-d0d2-3079c7845ee7"
      },
      "outputs": [
        {
          "data": {
            "text/plain": [
              "array([5.77698343, 5.04186238, 6.58812977, 5.38449676, 5.94235649,\n",
              "       5.05262894, 5.41458193, 6.01438796, 4.84612312, 4.96358462,\n",
              "       5.34037719, 5.45310236, 5.74762487, 5.04609467, 5.5298785 ,\n",
              "       6.37077951, 6.81048257, 5.80786582, 5.94225643, 5.10463618,\n",
              "       6.30480803, 5.20797767, 5.63891192, 6.14447946, 5.5130062 ,\n",
              "       5.01701749, 5.19879799, 6.49572365, 5.34885245, 6.2195562 ,\n",
              "       6.09065844, 5.8570942 , 5.54513074, 5.28600391, 5.70464326,\n",
              "       6.2153627 , 5.16300514, 5.46547134, 6.36024605, 5.78842262,\n",
              "       5.45247612, 6.05034673, 6.65558681, 6.58819242, 6.01087011,\n",
              "       4.79026321, 5.52926762, 6.01442528, 5.50581887, 6.1094846 ,\n",
              "       5.3645023 , 5.3569158 , 5.78100776, 6.36560789, 5.74243611,\n",
              "       5.23301561, 5.08378558, 5.33390739, 6.50763077, 5.46055241,\n",
              "       5.15491058, 5.77792925, 6.05806639, 6.29836916, 5.07172948,\n",
              "       6.1147426 , 5.36980622, 6.02148855, 6.14452363, 6.04562478,\n",
              "       5.31885448, 5.49214109, 5.06785305, 5.58701634, 5.63591451,\n",
              "       6.20777786, 5.4056327 , 5.33936313, 5.71978747, 6.31306633,\n",
              "       5.73600069, 5.28587334, 5.92859781, 6.12134569, 5.50454085,\n",
              "       5.37865176, 6.2095893 , 5.09862828, 5.34076007, 4.97124905,\n",
              "       5.17146228, 5.32482542, 5.78734056, 5.41859979, 6.23559791,\n",
              "       5.31885448, 6.31992199, 5.39940663, 5.46574686, 5.95904361,\n",
              "       6.8622465 , 6.04524424, 5.75749805, 6.34944577, 5.62879544,\n",
              "       4.96133542, 5.62879544, 5.40553591, 5.99668537, 5.27402627,\n",
              "       5.84427939, 5.14646612, 6.27399656, 5.02669997, 5.59010207,\n",
              "       5.78483037, 5.67604795, 6.42097264, 5.77301827, 5.63891192,\n",
              "       5.13979635, 5.93789375, 5.43420428, 5.12137145, 6.17369143,\n",
              "       6.31544725, 5.33292269, 5.4712275 , 6.04906076, 6.45038864,\n",
              "       5.44225612, 5.22773098, 6.02883824, 5.83189158, 6.31268333,\n",
              "       5.30746747, 5.91822949, 5.29550091, 6.12912665, 5.3569481 ,\n",
              "       5.96728384, 5.10964601, 5.52926762, 5.26046308, 5.64390642,\n",
              "       5.75269072, 6.27399656, 6.41317452, 6.24901797, 5.32910129,\n",
              "       5.93137324, 5.9728948 , 5.40553591, 5.52505223, 5.5214452 ,\n",
              "       5.38627329, 5.12734573, 5.38521065, 6.19307621, 6.05371442,\n",
              "       5.92247739, 5.59777402, 6.28914529, 5.12606217, 5.93674426,\n",
              "       5.02369334, 5.96347775, 6.47385649, 5.4972908 , 5.9690481 ,\n",
              "       5.97423284, 5.52296716, 5.01980861, 6.65115597, 5.79669665,\n",
              "       6.31172281, 6.22684646, 6.80970933, 6.04554987, 4.85007541,\n",
              "       5.10394577, 6.94221861, 5.48035922, 6.14629162, 6.78339382,\n",
              "       5.02945205, 5.68155071, 5.75749805, 4.97960213, 6.14963519,\n",
              "       6.05044972, 5.91777439, 5.22885173, 5.50553759, 5.18937653,\n",
              "       5.17214506, 5.34037719, 5.1347952 , 5.26845166, 5.09348735,\n",
              "       5.28202871, 6.14684684, 5.17854655, 5.3086585 , 5.40573505,\n",
              "       4.94781012, 5.10270456, 6.30903844, 6.05262112, 5.4316605 ,\n",
              "       5.94703154, 6.14805243, 5.34348707, 6.37165017, 5.02079444,\n",
              "       5.44367527, 5.94949204, 6.08069073, 5.55242089, 5.00648535,\n",
              "       5.0375224 , 5.95332874, 6.38281576, 5.77690691, 5.43420363,\n",
              "       6.01000842, 6.37974452, 5.78812528, 4.87517747, 5.48439988,\n",
              "       5.02491977, 5.88491193, 5.05328394, 5.83968438, 6.30631756,\n",
              "       5.60921879, 6.126963  , 6.57281038, 6.52985461, 6.14233611,\n",
              "       5.34492541, 4.91867582, 5.03879411, 5.11954044, 5.96955316,\n",
              "       4.84112558, 5.61226645, 5.23023352, 4.87130186, 6.32103956,\n",
              "       4.89068131, 5.27717187, 4.9141673 , 5.35909723, 5.53195644,\n",
              "       5.53746326, 5.12985807, 5.06815136, 5.12746778, 5.63301816,\n",
              "       5.33640963, 6.88499087, 5.35788608, 5.69284132, 5.24717863,\n",
              "       4.70918815, 5.31626606, 4.9602451 , 5.60326   , 6.47979995,\n",
              "       5.76946537, 5.76114391, 5.69954505, 6.03990978, 5.9677159 ,\n",
              "       5.81189221, 6.39580929, 5.2020665 , 6.59910395, 6.16574162,\n",
              "       5.39301648, 6.89365807, 5.76114391, 6.32757192, 5.84861412,\n",
              "       5.16251288, 5.60752067, 5.36865842, 6.2588103 , 5.91539369,\n",
              "       5.67791597, 5.37472444, 6.15490279, 5.37097618, 5.1919113 ,\n",
              "       5.69541813, 5.57716969, 5.2101932 , 5.15621988, 5.29114532,\n",
              "       5.67405543, 5.03710619, 5.43082795, 5.74935937, 6.1375354 ,\n",
              "       5.77937684, 5.3297386 , 5.04497711, 5.62471695, 5.3255354 ,\n",
              "       5.91960533, 5.92036275, 5.35504375, 5.39940663, 5.07915752,\n",
              "       6.58722984, 6.03541772, 6.26618724, 5.17209473, 6.4083629 ,\n",
              "       5.3255354 , 5.82789424, 6.16651316, 5.93044436, 5.43022496,\n",
              "       5.08907954, 6.62731247, 5.56431   , 5.33253951, 5.6562065 ,\n",
              "       6.60746073, 5.22719057, 5.47517051, 6.14963519, 4.96342983,\n",
              "       6.02258284, 5.92398251, 5.45700283, 5.38509537, 5.31339108,\n",
              "       5.01059419, 5.38973146, 5.36980622, 6.354219  , 5.69541813,\n",
              "       5.57138479, 5.44260891, 5.14127377, 5.43052435, 6.51426115,\n",
              "       5.72756544, 6.10969017, 5.59386233, 5.94131102, 6.62076223,\n",
              "       4.82973383, 6.05044972, 6.15177186, 5.68897048, 6.17003446,\n",
              "       5.06469775, 6.32103956, 5.42728054, 6.09928609, 5.69850053,\n",
              "       5.27563153, 5.46547134, 6.42999676, 5.00374141, 5.44239619,\n",
              "       5.64318952, 5.55029103, 5.44851139, 6.07946892, 5.34142322,\n",
              "       5.28966776, 5.9728948 , 6.20099871, 5.60921879, 5.78376469,\n",
              "       6.23397708, 5.8500665 , 5.08056677, 5.44858252, 5.58558388,\n",
              "       5.56537434, 6.14188586, 5.58874363, 6.01529398, 5.65068924,\n",
              "       6.52257744, 5.50748462, 5.14627478, 6.43459565, 5.37595033,\n",
              "       5.8899597 , 5.53116944, 5.91960533, 5.82048958, 5.41610961,\n",
              "       5.3131938 , 5.41610961, 5.31831622, 5.25342855, 5.83498555,\n",
              "       5.33390739, 5.91056681, 6.05764335, 5.30710432, 5.78870613,\n",
              "       5.44367527, 5.10872424, 4.97588352, 5.90258795, 5.38568962,\n",
              "       5.2915022 , 6.07000142, 5.20245013, 5.34511172, 6.04979801,\n",
              "       6.10842216, 5.76595042, 6.37837399, 5.87711457, 5.33126861,\n",
              "       5.53264892, 5.79253852, 6.17700409, 5.35080171, 5.23023352,\n",
              "       5.55482375, 6.01529398, 5.32482542, 6.21888837, 5.7814564 ,\n",
              "       6.65520676, 5.7286605 , 6.37551348, 5.53208537, 5.35903468,\n",
              "       5.72934335, 5.28439481, 6.14233611, 5.09229843, 5.87157633,\n",
              "       5.59792825, 5.45700283, 6.94370531, 5.88958199, 5.52407857,\n",
              "       6.04131936, 5.10556018, 5.97070711, 6.55132687, 6.24616191,\n",
              "       5.21579877, 5.65367141, 5.29418826, 6.15490279, 5.60827621,\n",
              "       5.14973283, 6.72097956, 5.3569481 , 4.99367277, 5.03204389,\n",
              "       5.05262894, 6.06633655, 5.11867642, 5.50404881, 5.18253686,\n",
              "       5.61096683, 5.54375371, 5.24856174, 5.44010393, 5.91539369,\n",
              "       5.50311651, 4.95233104, 5.18407333, 5.56537434, 5.29418826])"
            ]
          },
          "execution_count": 17,
          "metadata": {},
          "output_type": "execute_result"
        }
      ],
      "source": [
        "y_pred"
      ]
    },
    {
      "cell_type": "code",
      "execution_count": null,
      "metadata": {
        "id": "eVO390pAqR3-"
      },
      "outputs": [],
      "source": []
    },
    {
      "cell_type": "code",
      "execution_count": null,
      "metadata": {
        "id": "w9qVYRf8Qa-r",
        "outputId": "378253ae-674d-4d37-977e-19d2272bea2c"
      },
      "outputs": [
        {
          "data": {
            "text/html": [
              "<div>\n",
              "<style scoped>\n",
              "    .dataframe tbody tr th:only-of-type {\n",
              "        vertical-align: middle;\n",
              "    }\n",
              "\n",
              "    .dataframe tbody tr th {\n",
              "        vertical-align: top;\n",
              "    }\n",
              "\n",
              "    .dataframe thead th {\n",
              "        text-align: right;\n",
              "    }\n",
              "</style>\n",
              "<table border=\"1\" class=\"dataframe\">\n",
              "  <thead>\n",
              "    <tr style=\"text-align: right;\">\n",
              "      <th></th>\n",
              "      <th>Coefficient</th>\n",
              "    </tr>\n",
              "  </thead>\n",
              "  <tbody>\n",
              "    <tr>\n",
              "      <th>fixed acidity</th>\n",
              "      <td>0.020236</td>\n",
              "    </tr>\n",
              "    <tr>\n",
              "      <th>volatile acidity</th>\n",
              "      <td>-1.213856</td>\n",
              "    </tr>\n",
              "    <tr>\n",
              "      <th>citric acid</th>\n",
              "      <td>-0.098456</td>\n",
              "    </tr>\n",
              "    <tr>\n",
              "      <th>residual sugar</th>\n",
              "      <td>0.022102</td>\n",
              "    </tr>\n",
              "    <tr>\n",
              "      <th>chlorides</th>\n",
              "      <td>-1.897619</td>\n",
              "    </tr>\n",
              "    <tr>\n",
              "      <th>free sulfur dioxide</th>\n",
              "      <td>0.001994</td>\n",
              "    </tr>\n",
              "    <tr>\n",
              "      <th>total sulfur dioxide</th>\n",
              "      <td>-0.003004</td>\n",
              "    </tr>\n",
              "    <tr>\n",
              "      <th>density</th>\n",
              "      <td>-16.724907</td>\n",
              "    </tr>\n",
              "    <tr>\n",
              "      <th>pH</th>\n",
              "      <td>-0.397705</td>\n",
              "    </tr>\n",
              "    <tr>\n",
              "      <th>sulphates</th>\n",
              "      <td>0.854179</td>\n",
              "    </tr>\n",
              "    <tr>\n",
              "      <th>alcohol</th>\n",
              "      <td>0.267506</td>\n",
              "    </tr>\n",
              "  </tbody>\n",
              "</table>\n",
              "</div>"
            ],
            "text/plain": [
              "                      Coefficient\n",
              "fixed acidity            0.020236\n",
              "volatile acidity        -1.213856\n",
              "citric acid             -0.098456\n",
              "residual sugar           0.022102\n",
              "chlorides               -1.897619\n",
              "free sulfur dioxide      0.001994\n",
              "total sulfur dioxide    -0.003004\n",
              "density                -16.724907\n",
              "pH                      -0.397705\n",
              "sulphates                0.854179\n",
              "alcohol                  0.267506"
            ]
          },
          "execution_count": 18,
          "metadata": {},
          "output_type": "execute_result"
        }
      ],
      "source": [
        "coeff_df = pd.DataFrame(regressor.coef_,X_data.columns, columns=['Coefficient'])\n",
        "coeff_df"
      ]
    },
    {
      "cell_type": "code",
      "execution_count": null,
      "metadata": {
        "id": "isftCsu0Qa-r"
      },
      "outputs": [],
      "source": []
    },
    {
      "cell_type": "code",
      "execution_count": null,
      "metadata": {
        "id": "jpUNMsCHQa-r"
      },
      "outputs": [],
      "source": [
        "df = pd.DataFrame({'Actual': y_test, 'Predicted': y_pred})\n",
        "df1 = df.head(25)"
      ]
    },
    {
      "cell_type": "code",
      "execution_count": null,
      "metadata": {
        "id": "a9hz4VB-Qa-s",
        "outputId": "05e22723-a037-4f86-a050-dd9c616c6134"
      },
      "outputs": [
        {
          "data": {
            "text/html": [
              "<div>\n",
              "<style scoped>\n",
              "    .dataframe tbody tr th:only-of-type {\n",
              "        vertical-align: middle;\n",
              "    }\n",
              "\n",
              "    .dataframe tbody tr th {\n",
              "        vertical-align: top;\n",
              "    }\n",
              "\n",
              "    .dataframe thead th {\n",
              "        text-align: right;\n",
              "    }\n",
              "</style>\n",
              "<table border=\"1\" class=\"dataframe\">\n",
              "  <thead>\n",
              "    <tr style=\"text-align: right;\">\n",
              "      <th></th>\n",
              "      <th>Actual</th>\n",
              "      <th>Predicted</th>\n",
              "    </tr>\n",
              "  </thead>\n",
              "  <tbody>\n",
              "    <tr>\n",
              "      <th>0</th>\n",
              "      <td>6</td>\n",
              "      <td>5.776983</td>\n",
              "    </tr>\n",
              "    <tr>\n",
              "      <th>1</th>\n",
              "      <td>5</td>\n",
              "      <td>5.041862</td>\n",
              "    </tr>\n",
              "    <tr>\n",
              "      <th>2</th>\n",
              "      <td>7</td>\n",
              "      <td>6.588130</td>\n",
              "    </tr>\n",
              "    <tr>\n",
              "      <th>3</th>\n",
              "      <td>6</td>\n",
              "      <td>5.384497</td>\n",
              "    </tr>\n",
              "    <tr>\n",
              "      <th>4</th>\n",
              "      <td>5</td>\n",
              "      <td>5.942356</td>\n",
              "    </tr>\n",
              "    <tr>\n",
              "      <th>...</th>\n",
              "      <td>...</td>\n",
              "      <td>...</td>\n",
              "    </tr>\n",
              "    <tr>\n",
              "      <th>475</th>\n",
              "      <td>5</td>\n",
              "      <td>5.503117</td>\n",
              "    </tr>\n",
              "    <tr>\n",
              "      <th>476</th>\n",
              "      <td>5</td>\n",
              "      <td>4.952331</td>\n",
              "    </tr>\n",
              "    <tr>\n",
              "      <th>477</th>\n",
              "      <td>5</td>\n",
              "      <td>5.184073</td>\n",
              "    </tr>\n",
              "    <tr>\n",
              "      <th>478</th>\n",
              "      <td>6</td>\n",
              "      <td>5.565374</td>\n",
              "    </tr>\n",
              "    <tr>\n",
              "      <th>479</th>\n",
              "      <td>5</td>\n",
              "      <td>5.294188</td>\n",
              "    </tr>\n",
              "  </tbody>\n",
              "</table>\n",
              "<p>480 rows × 2 columns</p>\n",
              "</div>"
            ],
            "text/plain": [
              "     Actual  Predicted\n",
              "0         6   5.776983\n",
              "1         5   5.041862\n",
              "2         7   6.588130\n",
              "3         6   5.384497\n",
              "4         5   5.942356\n",
              "..      ...        ...\n",
              "475       5   5.503117\n",
              "476       5   4.952331\n",
              "477       5   5.184073\n",
              "478       6   5.565374\n",
              "479       5   5.294188\n",
              "\n",
              "[480 rows x 2 columns]"
            ]
          },
          "execution_count": 20,
          "metadata": {},
          "output_type": "execute_result"
        }
      ],
      "source": [
        "df"
      ]
    },
    {
      "cell_type": "code",
      "execution_count": null,
      "metadata": {
        "id": "7xvBaeZBQa-s",
        "outputId": "5488697d-d12b-46d1-89cf-75fa42a409b5"
      },
      "outputs": [
        {
          "data": {
            "image/png": "[encoded data removed]",
            "text/plain": [
              "<Figure size 720x576 with 1 Axes>"
            ]
          },
          "metadata": {
            "needs_background": "light"
          },
          "output_type": "display_data"
        }
      ],
      "source": [
        "import matplotlib.pyplot as plt\n",
        "df1.plot(kind='bar',figsize=(10,8))\n",
        "plt.grid(which='major', linestyle='-', linewidth='0.5', color='green')\n",
        "#plt.grid(which='minor', linestyle=':', linewidth='0.5', color='yellow')\n",
        "plt.show()"
      ]
    },
    {
      "cell_type": "code",
      "execution_count": null,
      "metadata": {
        "id": "E8tbYdA1Qa-s",
        "outputId": "ede4af99-62f8-430e-b650-e84b8f442567"
      },
      "outputs": [
        {
          "name": "stdout",
          "output_type": "stream",
          "text": [
            "Mean Absolute Error: 0.4871262164592848\n",
            "Mean Squared Error: 0.4007803663750089\n",
            "Root Mean Squared Error: 0.6330721652189495\n"
          ]
        }
      ],
      "source": [
        "from sklearn import metrics\n",
        "import numpy as np\n",
        "print('Mean Absolute Error:', metrics.mean_absolute_error(y_test, y_pred))\n",
        "print('Mean Squared Error:', metrics.mean_squared_error(y_test, y_pred))\n",
        "print('Root Mean Squared Error:', np.sqrt(metrics.mean_squared_error(y_test, y_pred)))"
      ]
    },
    {
      "cell_type": "code",
      "execution_count": null,
      "metadata": {
        "id": "41ZDfNw2qR3-"
      },
      "outputs": [],
      "source": []
    }
  ],
  "metadata": {
    "colab": {
      "provenance": [],
      "include_colab_link": true
    },
    "kernelspec": {
      "display_name": "Python 3",
      "language": "python",
      "name": "python3"
    },
    "language_info": {
      "codemirror_mode": {
        "name": "ipython",
        "version": 3
      },
      "file_extension": ".py",
      "mimetype": "text/x-python",
      "name": "python",
      "nbconvert_exporter": "python",
      "pygments_lexer": "ipython3",
      "version": "3.8.5"
    }
  },
  "nbformat": 4,
  "nbformat_minor": 0
}