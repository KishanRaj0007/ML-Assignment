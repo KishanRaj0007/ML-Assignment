{
  "nbformat": 4,
  "nbformat_minor": 0,
  "metadata": {
    "colab": {
      "provenance": [],
      "authorship_tag": "ABX9TyNppjY5RYKgjbfJzuwTye/M",
      "include_colab_link": true
    },
    "kernelspec": {
      "name": "python3",
      "display_name": "Python 3"
    },
    "language_info": {
      "name": "python"
    }
  },
  "cells": [
    {
      "cell_type": "markdown",
      "metadata": {
        "id": "view-in-github",
        "colab_type": "text"
      },
      "source": [
        "<a href=\"https://colab.research.google.com/github/KishanRaj0007/ML-Assignment/blob/main/Assignment_6.ipynb\" target=\"_parent\"><img src=\"https://colab.research.google.com/assets/colab-badge.svg\" alt=\"Open In Colab\"/></a>"
      ]
    },
    {
      "cell_type": "code",
      "execution_count": null,
      "metadata": {
        "id": "pesdLvWRUgWC",
        "colab": {
          "base_uri": "https://localhost:8080/"
        },
        "outputId": "d1767f23-213e-4af4-8b53-a349ca8555db"
      },
      "outputs": [
        {
          "output_type": "stream",
          "name": "stdout",
          "text": [
            "Enter a string: kishan\n",
            "Number of vowels: 2\n"
          ]
        }
      ],
      "source": [
        "def count_vowels(string):\n",
        "    vowels = 'aeiouAEIOU'\n",
        "    vowel_count = 0\n",
        "    for char in string:\n",
        "        if char in vowels:\n",
        "            vowel_count += 1\n",
        "    return vowel_count\n",
        "\n",
        "# Test the function\n",
        "input_string = input(\"Enter a string: \")\n",
        "print(\"Number of vowels:\", count_vowels(input_string))\n"
      ]
    },
    {
      "cell_type": "code",
      "source": [
        "def extract_unique_words(file_path):\n",
        "    unique_words = set()\n",
        "    try:\n",
        "        with open(file_path, 'r') as file:\n",
        "            for line in file:\n",
        "                words = line.split()\n",
        "                for word in words:\n",
        "                    # Remove punctuation marks from the word\n",
        "                    word = word.strip(\".,!?;:\\\"\")\n",
        "                    # Add the word to the set of unique words\n",
        "                    unique_words.add(word.lower())\n",
        "        return sorted(unique_words)\n",
        "    except FileNotFoundError:\n",
        "        print(\"File not found!\")\n",
        "        return []\n",
        "\n",
        "def main():\n",
        "    file_path = input(\"Enter the file path: \")\n",
        "    unique_words = extract_unique_words(file_path)\n",
        "    if unique_words:\n",
        "        print(\"Unique words in alphabetical order:\")\n",
        "        for word in unique_words:\n",
        "            print(word)\n",
        "\n",
        "if __name__ == \"__main__\":\n",
        "    main()\n"
      ],
      "metadata": {
        "colab": {
          "base_uri": "https://localhost:8080/"
        },
        "id": "9SgWzDhzKqLi",
        "outputId": "66b92190-eec4-47c5-e336-6595422e720e"
      },
      "execution_count": null,
      "outputs": [
        {
          "output_type": "stream",
          "name": "stdout",
          "text": [
            "Enter the file path: /content/sample_data/kishan.txt\n",
            "Unique words in alphabetical order:\n",
            "is\n",
            "kishan\n",
            "my\n",
            "name\n"
          ]
        }
      ]
    },
    {
      "cell_type": "code",
      "source": [
        "def read_file(file_path):\n",
        "    try:\n",
        "        with open(file_path, 'r') as file:\n",
        "            content = file.read()\n",
        "        return content\n",
        "    except FileNotFoundError:\n",
        "        print(\"File not found!\")\n",
        "        return None\n",
        "\n",
        "def write_file(file_path, content):\n",
        "    try:\n",
        "        with open(file_path, 'w') as file:\n",
        "            file.write(content)\n",
        "        print(\"File has been successfully written.\")\n",
        "    except Exception as e:\n",
        "        print(\"An error occurred while writing the file:\", str(e))\n",
        "\n",
        "def main():\n",
        "    file_path = input(\"Enter the file path: \")\n",
        "\n",
        "    # Read the content of the file\n",
        "    content = read_file(file_path)\n",
        "    if content is not None:\n",
        "        print(\"Content of the file:\")\n",
        "        print(content)\n",
        "\n",
        "        # Modify the content\n",
        "        new_content = input(\"Enter the new content: \")\n",
        "\n",
        "        # Write the modified content back to the file\n",
        "        write_file(file_path, new_content)\n",
        "\n",
        "if __name__ == \"__main__\":\n",
        "    main()\n"
      ],
      "metadata": {
        "colab": {
          "base_uri": "https://localhost:8080/"
        },
        "id": "6AT5uMlwLNwm",
        "outputId": "24219082-6a79-41cd-d3ad-ebed2a65f619"
      },
      "execution_count": null,
      "outputs": [
        {
          "output_type": "stream",
          "name": "stdout",
          "text": [
            "Enter the file path: /content/sample_data/kishan.txt\n",
            "Content of the file:\n",
            "My name is kishan\n",
            "Enter the new content: /content/sample_data/kishan2.txt\n",
            "File has been successfully written.\n"
          ]
        }
      ]
    },
    {
      "cell_type": "code",
      "source": [
        "def copy_file(source_file, destination_file):\n",
        "    try:\n",
        "        with open(source_file, 'r') as source:\n",
        "            with open(destination_file, 'w') as destination:\n",
        "                destination.write(source.read())\n",
        "        print(\"File successfully copied.\")\n",
        "    except FileNotFoundError:\n",
        "        print(\"One of the files does not exist.\")\n",
        "    except Exception as e:\n",
        "        print(\"An error occurred:\", str(e))\n",
        "\n",
        "def main():\n",
        "    source_file = input(\"Enter the path of the source file: \")\n",
        "    destination_file = input(\"Enter the path of the destination file: \")\n",
        "    copy_file(source_file, destination_file)\n",
        "\n",
        "if __name__ == \"__main__\":\n",
        "    main()\n"
      ],
      "metadata": {
        "colab": {
          "base_uri": "https://localhost:8080/"
        },
        "id": "JO06QuvOLmE5",
        "outputId": "0c670b80-e00d-4f51-d42c-1d046e6f583e"
      },
      "execution_count": null,
      "outputs": [
        {
          "output_type": "stream",
          "name": "stdout",
          "text": [
            "Enter the path of the source file: /content/sample_data/kishan.txt\n",
            "Enter the path of the destination file: /content/sample_data/kishan2.txt\n",
            "File successfully copied.\n"
          ]
        }
      ]
    },
    {
      "cell_type": "code",
      "source": [
        "def count_characters(file_path):\n",
        "    try:\n",
        "        with open(file_path, 'r') as file:\n",
        "            content = file.read()\n",
        "        return len(content)\n",
        "    except FileNotFoundError:\n",
        "        print(\"File not found!\")\n",
        "        return 0\n",
        "\n",
        "def count_words(file_path):\n",
        "    try:\n",
        "        with open(file_path, 'r') as file:\n",
        "            content = file.read()\n",
        "        words = content.split()\n",
        "        return len(words)\n",
        "    except FileNotFoundError:\n",
        "        print(\"File not found!\")\n",
        "        return 0\n",
        "\n",
        "def count_lines(file_path):\n",
        "    try:\n",
        "        with open(file_path, 'r') as file:\n",
        "            lines = file.readlines()\n",
        "        return len(lines)\n",
        "    except FileNotFoundError:\n",
        "        print(\"File not found!\")\n",
        "        return 0\n",
        "\n",
        "def main():\n",
        "    file_path = input(\"Enter the file path: \")\n",
        "\n",
        "    # Count characters, words, and lines\n",
        "    num_characters = count_characters(file_path)\n",
        "    num_words = count_words(file_path)\n",
        "    num_lines = count_lines(file_path)\n",
        "\n",
        "    # Output the results\n",
        "    print(\"Number of characters:\", num_characters)\n",
        "    print(\"Number of words:\", num_words)\n",
        "    print(\"Number of lines:\", num_lines)\n",
        "\n",
        "if __name__ == \"__main__\":\n",
        "    main()\n"
      ],
      "metadata": {
        "colab": {
          "base_uri": "https://localhost:8080/"
        },
        "id": "8hwq1XEJL4w3",
        "outputId": "b60f9088-12aa-4e67-8ff4-4428d9fdf96a"
      },
      "execution_count": null,
      "outputs": [
        {
          "output_type": "stream",
          "name": "stdout",
          "text": [
            "Enter the file path: /content/sample_data/kishan.txt\n",
            "Number of characters: 41\n",
            "Number of words: 9\n",
            "Number of lines: 2\n"
          ]
        }
      ]
    },
    {
      "cell_type": "code",
      "source": [],
      "metadata": {
        "id": "4PjLzoDZMEpm"
      },
      "execution_count": null,
      "outputs": []
    }
  ]
}